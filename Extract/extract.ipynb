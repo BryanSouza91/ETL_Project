{
 "cells": [
  {
   "cell_type": "markdown",
   "metadata": {},
   "source": [
    "# World Indicators Extract notebook\n",
    "Here I extract 3 datasets using the [bigquery](https://googleapis.dev/python/bigquery/latest/index.html) package. [Pandas](https://pandas.pydata.org/) was used to export the data to CSVs for the Load process."
   ]
  },
  {
   "cell_type": "code",
   "execution_count": 1,
   "metadata": {},
   "outputs": [],
   "source": [
    "from google.cloud import bigquery as bq"
   ]
  },
  {
   "cell_type": "code",
   "execution_count": 2,
   "metadata": {},
   "outputs": [],
   "source": [
    "client = bq.Client()"
   ]
  },
  {
   "cell_type": "code",
   "execution_count": 32,
   "metadata": {},
   "outputs": [],
   "source": [
    "import pandas as pd"
   ]
  },
  {
   "cell_type": "markdown",
   "metadata": {},
   "source": [
    "### World Bank International Education\n",
    "This dataset consists of four tables:\n",
    "* Series Summary\n",
    "* Country Summary\n",
    "* International Education\n",
    "* Country Series Definitions"
   ]
  },
  {
   "cell_type": "code",
   "execution_count": 22,
   "metadata": {},
   "outputs": [],
   "source": [
    "sql = ('SELECT * FROM `bigquery-public-data.world_bank_intl_education.series_summary`')\n",
    "\n",
    "WB_edu_series_summ_df = client.query(sql).to_dataframe()"
   ]
  },
  {
   "cell_type": "code",
   "execution_count": 34,
   "metadata": {},
   "outputs": [],
   "source": [
    "WB_edu_series_summ_df.to_csv('WB_edu_series_summ_df.csv')"
   ]
  },
  {
   "cell_type": "code",
   "execution_count": 23,
   "metadata": {},
   "outputs": [],
   "source": [
    "sql = ('SELECT * FROM `bigquery-public-data.world_bank_intl_education.country_summary`')\n",
    "\n",
    "WB_edu_country_summ_df = client.query(sql).to_dataframe()"
   ]
  },
  {
   "cell_type": "code",
   "execution_count": 35,
   "metadata": {},
   "outputs": [],
   "source": [
    "WB_edu_country_summ_df.to_csv('WB_edu_country_summ_df.csv')"
   ]
  },
  {
   "cell_type": "code",
   "execution_count": 24,
   "metadata": {},
   "outputs": [],
   "source": [
    "sql = ('SELECT * FROM `bigquery-public-data.world_bank_intl_education.international_education`')\n",
    "\n",
    "WB_edu_int_edu_df = client.query(sql).to_dataframe()"
   ]
  },
  {
   "cell_type": "code",
   "execution_count": 38,
   "metadata": {},
   "outputs": [],
   "source": [
    "WB_edu_int_edu_df.to_csv('WB_edu_int_edu.csv')"
   ]
  },
  {
   "cell_type": "code",
   "execution_count": 25,
   "metadata": {},
   "outputs": [],
   "source": [
    "sql = ('SELECT * FROM `bigquery-public-data.world_bank_intl_education.country_series_definitions`')\n",
    "\n",
    "WB_edu_country_series_def_df = client.query(sql).to_dataframe()"
   ]
  },
  {
   "cell_type": "code",
   "execution_count": 37,
   "metadata": {},
   "outputs": [],
   "source": [
    "WB_edu_country_series_def_df.to_csv('WB_edu_country_series_def_df.csv')"
   ]
  },
  {
   "cell_type": "markdown",
   "metadata": {},
   "source": [
    "### World Bank Development Indicators\n",
    "This dataset consists of six tables:\n",
    "* Series Summary\n",
    "* Series Time\n",
    "* Country Summary\n",
    "* Indicators Data\n",
    "* Country Series Definitions\n",
    "* Footnotes"
   ]
  },
  {
   "cell_type": "code",
   "execution_count": 26,
   "metadata": {},
   "outputs": [],
   "source": [
    "sql = ('SELECT * FROM `bigquery-public-data.world_bank_wdi.country_series_definitions`')\n",
    "\n",
    "WB_wdi_country_series_def_df = client.query(sql).to_dataframe()"
   ]
  },
  {
   "cell_type": "code",
   "execution_count": 39,
   "metadata": {},
   "outputs": [],
   "source": [
    "WB_wdi_country_series_def_df.to_csv('WB_wdi_country_series_def_df.csv')"
   ]
  },
  {
   "cell_type": "code",
   "execution_count": 27,
   "metadata": {},
   "outputs": [],
   "source": [
    "sql = ('SELECT * FROM `bigquery-public-data.world_bank_wdi.country_summary`')\n",
    "\n",
    "WB_wdi_country_summ_df = client.query(sql).to_dataframe()"
   ]
  },
  {
   "cell_type": "code",
   "execution_count": 40,
   "metadata": {},
   "outputs": [],
   "source": [
    "WB_wdi_country_summ_df.to_csv('WB_wdi_country_summ_df.csv')"
   ]
  },
  {
   "cell_type": "code",
   "execution_count": 28,
   "metadata": {},
   "outputs": [],
   "source": [
    "sql = ('SELECT * FROM `bigquery-public-data.world_bank_wdi.footnotes`')\n",
    "\n",
    "WB_wdi_footnotes_df = client.query(sql).to_dataframe()"
   ]
  },
  {
   "cell_type": "code",
   "execution_count": 41,
   "metadata": {},
   "outputs": [],
   "source": [
    "WB_wdi_footnotes_df.to_csv('WB_wdi_footnotes_df.csv')"
   ]
  },
  {
   "cell_type": "code",
   "execution_count": 29,
   "metadata": {},
   "outputs": [],
   "source": [
    "sql = ('SELECT * FROM `bigquery-public-data.world_bank_wdi.indicators_data`')\n",
    "\n",
    "WB_wdi_indicators_data_df = client.query(sql).to_dataframe()"
   ]
  },
  {
   "cell_type": "code",
   "execution_count": 42,
   "metadata": {},
   "outputs": [],
   "source": [
    "WB_wdi_indicators_data_df.to_csv('WB_wdi_indicators_data_df.csv')"
   ]
  },
  {
   "cell_type": "code",
   "execution_count": 30,
   "metadata": {},
   "outputs": [],
   "source": [
    "sql = ('SELECT * FROM `bigquery-public-data.world_bank_wdi.series_summary`')\n",
    "\n",
    "WB_wdi_series_summ_df = client.query(sql).to_dataframe()"
   ]
  },
  {
   "cell_type": "code",
   "execution_count": 43,
   "metadata": {},
   "outputs": [],
   "source": [
    "WB_wdi_series_summ_df.to_csv('WB_wdi_series_summ_df.csv')"
   ]
  },
  {
   "cell_type": "code",
   "execution_count": 31,
   "metadata": {},
   "outputs": [],
   "source": [
    "sql = ('SELECT * FROM `bigquery-public-data.world_bank_wdi.series_time`')\n",
    "\n",
    "WB_wdi_series_time_df = client.query(sql).to_dataframe()"
   ]
  },
  {
   "cell_type": "code",
   "execution_count": 44,
   "metadata": {},
   "outputs": [],
   "source": [
    "WB_wdi_series_time_df.to_csv('WB_wdi_series_time_df.csv')"
   ]
  },
  {
   "cell_type": "markdown",
   "metadata": {},
   "source": [
    "### International Energy Statistics\n",
    "This dataset came as a CSV initially."
   ]
  },
  {
   "cell_type": "code",
   "execution_count": 10,
   "metadata": {},
   "outputs": [],
   "source": [
    "# International Energy Statistics\n",
    "# Global energy trade & production 1990-2014\n",
    "import pandas as pd\n",
    "import os\n",
    "\n",
    "file = os.path.join(\"international-energy-statistics\",\"all_energy_statistics.csv\")\n",
    "\n",
    "int_energy_df = pd.read_csv(file)\n"
   ]
  },
  {
   "cell_type": "code",
   "execution_count": 11,
   "metadata": {},
   "outputs": [
    {
     "data": {
      "text/html": [
       "<div>\n",
       "<style scoped>\n",
       "    .dataframe tbody tr th:only-of-type {\n",
       "        vertical-align: middle;\n",
       "    }\n",
       "\n",
       "    .dataframe tbody tr th {\n",
       "        vertical-align: top;\n",
       "    }\n",
       "\n",
       "    .dataframe thead th {\n",
       "        text-align: right;\n",
       "    }\n",
       "</style>\n",
       "<table border=\"1\" class=\"dataframe\">\n",
       "  <thead>\n",
       "    <tr style=\"text-align: right;\">\n",
       "      <th></th>\n",
       "      <th>country_or_area</th>\n",
       "      <th>commodity_transaction</th>\n",
       "      <th>year</th>\n",
       "      <th>unit</th>\n",
       "      <th>quantity</th>\n",
       "      <th>quantity_footnotes</th>\n",
       "      <th>category</th>\n",
       "    </tr>\n",
       "  </thead>\n",
       "  <tbody>\n",
       "    <tr>\n",
       "      <th>0</th>\n",
       "      <td>Austria</td>\n",
       "      <td>Additives and Oxygenates - Exports</td>\n",
       "      <td>1996</td>\n",
       "      <td>Metric tons,  thousand</td>\n",
       "      <td>5.0</td>\n",
       "      <td>NaN</td>\n",
       "      <td>additives_and_oxygenates</td>\n",
       "    </tr>\n",
       "    <tr>\n",
       "      <th>1</th>\n",
       "      <td>Austria</td>\n",
       "      <td>Additives and Oxygenates - Exports</td>\n",
       "      <td>1995</td>\n",
       "      <td>Metric tons,  thousand</td>\n",
       "      <td>17.0</td>\n",
       "      <td>NaN</td>\n",
       "      <td>additives_and_oxygenates</td>\n",
       "    </tr>\n",
       "    <tr>\n",
       "      <th>2</th>\n",
       "      <td>Belgium</td>\n",
       "      <td>Additives and Oxygenates - Exports</td>\n",
       "      <td>2014</td>\n",
       "      <td>Metric tons,  thousand</td>\n",
       "      <td>0.0</td>\n",
       "      <td>NaN</td>\n",
       "      <td>additives_and_oxygenates</td>\n",
       "    </tr>\n",
       "    <tr>\n",
       "      <th>3</th>\n",
       "      <td>Belgium</td>\n",
       "      <td>Additives and Oxygenates - Exports</td>\n",
       "      <td>2013</td>\n",
       "      <td>Metric tons,  thousand</td>\n",
       "      <td>0.0</td>\n",
       "      <td>NaN</td>\n",
       "      <td>additives_and_oxygenates</td>\n",
       "    </tr>\n",
       "    <tr>\n",
       "      <th>4</th>\n",
       "      <td>Belgium</td>\n",
       "      <td>Additives and Oxygenates - Exports</td>\n",
       "      <td>2012</td>\n",
       "      <td>Metric tons,  thousand</td>\n",
       "      <td>35.0</td>\n",
       "      <td>NaN</td>\n",
       "      <td>additives_and_oxygenates</td>\n",
       "    </tr>\n",
       "  </tbody>\n",
       "</table>\n",
       "</div>"
      ],
      "text/plain": [
       "  country_or_area               commodity_transaction  year  \\\n",
       "0         Austria  Additives and Oxygenates - Exports  1996   \n",
       "1         Austria  Additives and Oxygenates - Exports  1995   \n",
       "2         Belgium  Additives and Oxygenates - Exports  2014   \n",
       "3         Belgium  Additives and Oxygenates - Exports  2013   \n",
       "4         Belgium  Additives and Oxygenates - Exports  2012   \n",
       "\n",
       "                     unit  quantity  quantity_footnotes  \\\n",
       "0  Metric tons,  thousand       5.0                 NaN   \n",
       "1  Metric tons,  thousand      17.0                 NaN   \n",
       "2  Metric tons,  thousand       0.0                 NaN   \n",
       "3  Metric tons,  thousand       0.0                 NaN   \n",
       "4  Metric tons,  thousand      35.0                 NaN   \n",
       "\n",
       "                   category  \n",
       "0  additives_and_oxygenates  \n",
       "1  additives_and_oxygenates  \n",
       "2  additives_and_oxygenates  \n",
       "3  additives_and_oxygenates  \n",
       "4  additives_and_oxygenates  "
      ]
     },
     "execution_count": 11,
     "metadata": {},
     "output_type": "execute_result"
    }
   ],
   "source": [
    "int_energy_df.head()"
   ]
  },
  {
   "cell_type": "markdown",
   "metadata": {},
   "source": []
  }
 ],
 "metadata": {
  "kernelspec": {
   "display_name": "Python 3",
   "language": "python",
   "name": "python3"
  },
  "language_info": {
   "codemirror_mode": {
    "name": "ipython",
    "version": 3
   },
   "file_extension": ".py",
   "mimetype": "text/x-python",
   "name": "python",
   "nbconvert_exporter": "python",
   "pygments_lexer": "ipython3",
   "version": "3.7.5"
  }
 },
 "nbformat": 4,
 "nbformat_minor": 4
}